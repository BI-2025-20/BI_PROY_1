{
 "cells": [
  {
   "metadata": {},
   "cell_type": "markdown",
   "source": [
    "# Proyecto 1: Entrega 1 - BI\n",
    "\n",
    "| ID | Nombre           | Código    | Correo                       |\n",
    "|----|------------------|-----------|------------------------------|\n",
    "| 1  | Adrian Velasquez | 202222737 | a.velasquezs@uniandes.edu.co |\n",
    "| 2  | xxx              | xxx       | xxx@uniandes.edu.co          |\n",
    "| 3  | yyy              | yyy       | yyy@uniandes.edu.co          |"
   ],
   "id": "8a77807f92f26ee"
  },
  {
   "metadata": {
    "ExecuteTime": {
     "end_time": "2025-09-03T23:54:25.525982Z",
     "start_time": "2025-09-03T23:54:25.523307Z"
    }
   },
   "cell_type": "code",
   "source": "print(\"Hello World!\")\n",
   "id": "fbc121e30a2defb3",
   "outputs": [
    {
     "name": "stdout",
     "output_type": "stream",
     "text": [
      "Hello World!\n"
     ]
    }
   ],
   "execution_count": 1
  }
 ],
 "metadata": {
  "kernelspec": {
   "display_name": "Python 3",
   "language": "python",
   "name": "python3"
  },
  "language_info": {
   "codemirror_mode": {
    "name": "ipython",
    "version": 2
   },
   "file_extension": ".py",
   "mimetype": "text/x-python",
   "name": "python",
   "nbconvert_exporter": "python",
   "pygments_lexer": "ipython2",
   "version": "2.7.6"
  }
 },
 "nbformat": 4,
 "nbformat_minor": 5
}
